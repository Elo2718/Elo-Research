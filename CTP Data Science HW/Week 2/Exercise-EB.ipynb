{
 "cells": [
  {
   "cell_type": "markdown",
   "metadata": {},
   "source": [
    "# Fall 2024 Data Science Track: Week 2 - Data Cleaning Exercise"
   ]
  },
  {
   "cell_type": "markdown",
   "metadata": {},
   "source": [
    "## Packages, Packages, Packages!\n",
    "\n",
    "Import *all* the things here! You need the standard stuff: `pandas` and `numpy`.\n",
    "\n",
    "If you got more stuff you want to use, add them here too. 🙂"
   ]
  },
  {
   "cell_type": "code",
   "execution_count": 12,
   "metadata": {},
   "outputs": [],
   "source": [
    "# Import here.\n",
    "import numpy as np\n",
    "import pandas as pd\n"
   ]
  },
  {
   "cell_type": "markdown",
   "metadata": {},
   "source": [
    "## Introduction\n",
    "\n",
    "With the packages out of the way, now you will be working with the following data sets:\n",
    "\n",
    "* `food_coded.csv`: [Food choices](https://www.kaggle.com/datasets/borapajo/food-choices?select=food_coded.csv) from Kaggle\n",
    "* `Ask A Manager Salary Survey 2021 (Responses) - Form Responses 1.tsv`: [Ask A Manager Salary Survey 2021 (Responses)](https://docs.google.com/spreadsheets/d/1IPS5dBSGtwYVbjsfbaMCYIWnOuRmJcbequohNxCyGVw/view?&gid=1625408792) as *Tab Separated Values (.tsv)* from Google Docs\n",
    "\n",
    "Each one poses different challenges. But you’ll―of course―overcome them with what you learned in class! 😉"
   ]
  },
  {
   "cell_type": "markdown",
   "metadata": {},
   "source": [
    "## Food Choices Data Set"
   ]
  },
  {
   "cell_type": "markdown",
   "metadata": {},
   "source": [
    "### Load the Data"
   ]
  },
  {
   "cell_type": "code",
   "execution_count": 13,
   "metadata": {},
   "outputs": [],
   "source": [
    "# Load the Food choices data set into a variable (e.g., df_food).\n",
    "\n",
    "df_food = pd.read_csv('food_coded.csv')"
   ]
  },
  {
   "cell_type": "markdown",
   "metadata": {},
   "source": [
    "### Explore the Data"
   ]
  },
  {
   "cell_type": "markdown",
   "metadata": {},
   "source": [
    "How much data did you just load?"
   ]
  },
  {
   "cell_type": "code",
   "execution_count": 14,
   "metadata": {},
   "outputs": [
    {
     "name": "stdout",
     "output_type": "stream",
     "text": [
      "125\n"
     ]
    }
   ],
   "source": [
    "# Count by hand. (lol kidding)\n",
    "print(df_food.shape[0])"
   ]
  },
  {
   "cell_type": "markdown",
   "metadata": {},
   "source": [
    "What are the columns and their types in this data set?"
   ]
  },
  {
   "cell_type": "code",
   "execution_count": 5,
   "metadata": {},
   "outputs": [
    {
     "name": "stdout",
     "output_type": "stream",
     "text": [
      "Index(['GPA', 'Gender', 'breakfast', 'calories_chicken', 'calories_day',\n",
      "       'calories_scone', 'coffee', 'comfort_food', 'comfort_food_reasons',\n",
      "       'comfort_food_reasons_coded', 'cook', 'comfort_food_reasons_coded.1',\n",
      "       'cuisine', 'diet_current', 'diet_current_coded', 'drink',\n",
      "       'eating_changes', 'eating_changes_coded', 'eating_changes_coded1',\n",
      "       'eating_out', 'employment', 'ethnic_food', 'exercise',\n",
      "       'father_education', 'father_profession', 'fav_cuisine',\n",
      "       'fav_cuisine_coded', 'fav_food', 'food_childhood', 'fries', 'fruit_day',\n",
      "       'grade_level', 'greek_food', 'healthy_feeling', 'healthy_meal',\n",
      "       'ideal_diet', 'ideal_diet_coded', 'income', 'indian_food',\n",
      "       'italian_food', 'life_rewarding', 'marital_status',\n",
      "       'meals_dinner_friend', 'mother_education', 'mother_profession',\n",
      "       'nutritional_check', 'on_off_campus', 'parents_cook', 'pay_meal_out',\n",
      "       'persian_food', 'self_perception_weight', 'soup', 'sports', 'thai_food',\n",
      "       'tortilla_calories', 'turkey_calories', 'type_sports', 'veggies_day',\n",
      "       'vitamins', 'waffle_calories', 'weight'],\n",
      "      dtype='object')\n"
     ]
    }
   ],
   "source": [
    "# Show the column names and their types.\n",
    "\n",
    "print(df_food.columns)"
   ]
  },
  {
   "cell_type": "markdown",
   "metadata": {},
   "source": [
    "### Clean the Data\n",
    "\n",
    "Perhaps we’d like to know more another day, but the team is really interested in just the relationship between calories (`calories_day`) and weight. …and maybe gender."
   ]
  },
  {
   "cell_type": "markdown",
   "metadata": {},
   "source": [
    "Can you remove the other columns?"
   ]
  },
  {
   "cell_type": "code",
   "execution_count": 15,
   "metadata": {},
   "outputs": [
    {
     "name": "stdout",
     "output_type": "stream",
     "text": [
      "     calories_day  Gender                    weight\n",
      "0             NaN       2                       187\n",
      "1             3.0       1                       155\n",
      "2             4.0       1  I'm not answering this. \n",
      "3             3.0       1             Not sure, 240\n",
      "4             2.0       1                       190\n",
      "..            ...     ...                       ...\n",
      "120           4.0       1                       156\n",
      "121           2.0       1                       180\n",
      "122           NaN       1                       120\n",
      "123           4.0       2                       135\n",
      "124           NaN       1                       135\n",
      "\n",
      "[125 rows x 3 columns]\n"
     ]
    }
   ],
   "source": [
    "# Remove ‘em.\n",
    "df = df_food[['calories_day','Gender','weight']]\n",
    "print(df)"
   ]
  },
  {
   "cell_type": "markdown",
   "metadata": {},
   "source": [
    "What about `NaN`s? How many are there?"
   ]
  },
  {
   "cell_type": "code",
   "execution_count": 16,
   "metadata": {},
   "outputs": [
    {
     "name": "stdout",
     "output_type": "stream",
     "text": [
      "calories_day    19\n",
      "Gender           0\n",
      "weight           2\n",
      "dtype: int64\n"
     ]
    }
   ],
   "source": [
    "# Count ‘em.\n",
    "print(df.isna().sum())\n"
   ]
  },
  {
   "cell_type": "markdown",
   "metadata": {},
   "source": [
    "We gotta remove those `NaN`s―the entire row."
   ]
  },
  {
   "cell_type": "code",
   "execution_count": 17,
   "metadata": {},
   "outputs": [
    {
     "name": "stdout",
     "output_type": "stream",
     "text": [
      "calories_day    0\n",
      "Gender          0\n",
      "weight          0\n",
      "dtype: int64\n"
     ]
    }
   ],
   "source": [
    "# Drop ‘em.\n",
    "\n",
    "df = df.dropna()\n",
    "print(df.isna().sum())"
   ]
  },
  {
   "cell_type": "markdown",
   "metadata": {},
   "source": [
    "But what about the weird non-numeric values in the column obviously meant for numeric data?\n",
    "\n",
    "Notice the data type of that column from when you got the types of all the columns?\n",
    "\n",
    "If only we could convert the column to a numeric type and drop the rows with invalid values. 🤔"
   ]
  },
  {
   "cell_type": "code",
   "execution_count": 20,
   "metadata": {},
   "outputs": [
    {
     "name": "stdout",
     "output_type": "stream",
     "text": [
      "     calories_day  Gender  weight\n",
      "1             3.0       1   155.0\n",
      "4             2.0       1   190.0\n",
      "5             3.0       1   190.0\n",
      "6             3.0       2   180.0\n",
      "7             3.0       1   137.0\n",
      "..            ...     ...     ...\n",
      "118           3.0       1   140.0\n",
      "119           3.0       2   185.0\n",
      "120           4.0       1   156.0\n",
      "121           2.0       1   180.0\n",
      "123           4.0       2   135.0\n",
      "\n",
      "[101 rows x 3 columns]\n",
      "     calories_day  Gender  weight\n",
      "1             3.0       1   155.0\n",
      "4             2.0       1   190.0\n",
      "5             3.0       1   190.0\n",
      "6             3.0       2   180.0\n",
      "7             3.0       1   137.0\n",
      "..            ...     ...     ...\n",
      "118           3.0       1   140.0\n",
      "119           3.0       2   185.0\n",
      "120           4.0       1   156.0\n",
      "121           2.0       1   180.0\n",
      "123           4.0       2   135.0\n",
      "\n",
      "[101 rows x 3 columns]\n"
     ]
    }
   ],
   "source": [
    "# Fix that.\n",
    "\n",
    "df = df.apply(pd.to_numeric, errors = 'coerce')\n",
    "print(df)\n",
    "df = df.dropna()\n",
    "print(df)"
   ]
  },
  {
   "cell_type": "markdown",
   "metadata": {},
   "source": [
    "Now this data seems reasonably clean for our purposes! 😁\n",
    "\n",
    "Let’s save it somewhere to be shipped off to another teammate. 💾"
   ]
  },
  {
   "cell_type": "code",
   "execution_count": 21,
   "metadata": {},
   "outputs": [],
   "source": [
    "# Savey save!\n",
    "\n",
    "df.to_csv('food_coded_cleaned.csv', index = False)"
   ]
  },
  {
   "cell_type": "markdown",
   "metadata": {},
   "source": [
    "## Ask a Manager Salary Survey 2021 (Responses) Data Set"
   ]
  },
  {
   "cell_type": "markdown",
   "metadata": {},
   "source": [
    "### Load the Data"
   ]
  },
  {
   "cell_type": "code",
   "execution_count": 22,
   "metadata": {},
   "outputs": [
    {
     "name": "stdout",
     "output_type": "stream",
     "text": [
      "                Timestamp How old are you?  \\\n",
      "0      4/27/2021 11:02:10            25-34   \n",
      "1      4/27/2021 11:02:22            25-34   \n",
      "2      4/27/2021 11:02:38            25-34   \n",
      "3      4/27/2021 11:02:41            25-34   \n",
      "4      4/27/2021 11:02:42            25-34   \n",
      "...                   ...              ...   \n",
      "28065   9/3/2024 18:30:24            45-54   \n",
      "28066   9/7/2024 22:02:37            18-24   \n",
      "28067   9/8/2024 20:53:07            35-44   \n",
      "28068   9/9/2024 18:43:02            18-24   \n",
      "28069  9/10/2024 23:58:45            35-44   \n",
      "\n",
      "              What industry do you work in?  \\\n",
      "0              Education (Higher Education)   \n",
      "1                         Computing or Tech   \n",
      "2             Accounting, Banking & Finance   \n",
      "3                                Nonprofits   \n",
      "4             Accounting, Banking & Finance   \n",
      "...                                     ...   \n",
      "28065                             Insurance   \n",
      "28066  Government and Public Administration   \n",
      "28067                     Computing or Tech   \n",
      "28068         Accounting, Banking & Finance   \n",
      "28069                     Computing or Tech   \n",
      "\n",
      "                                      Job title  \\\n",
      "0            Research and Instruction Librarian   \n",
      "1      Change & Internal Communications Manager   \n",
      "2                          Marketing Specialist   \n",
      "3                               Program Manager   \n",
      "4                            Accounting Manager   \n",
      "...                                         ...   \n",
      "28065                                   Manager   \n",
      "28066               Acquisition program manager   \n",
      "28067                       IT Helpdesk Manager   \n",
      "28068                          Audit Associate    \n",
      "28069                  Business Systems Analyst   \n",
      "\n",
      "      If your job title needs additional context, please clarify here:  \\\n",
      "0                                                    NaN                 \n",
      "1                                                    NaN                 \n",
      "2                                                    NaN                 \n",
      "3                                                    NaN                 \n",
      "4                                                    NaN                 \n",
      "...                                                  ...                 \n",
      "28065                                             Claims                 \n",
      "28066                                                NaN                 \n",
      "28067                                                NaN                 \n",
      "28068                                                NaN                 \n",
      "28069                                                NaN                 \n",
      "\n",
      "      What is your annual salary? (You'll indicate the currency in a later question. If you are part-time or hourly, please enter an annualized equivalent -- what you would earn if you worked the job 40 hours a week, 52 weeks a year.)  \\\n",
      "0                                                 55,000                                                                                                                                                                                     \n",
      "1                                                 54,600                                                                                                                                                                                     \n",
      "2                                                 34,000                                                                                                                                                                                     \n",
      "3                                                 62,000                                                                                                                                                                                     \n",
      "4                                                 60,000                                                                                                                                                                                     \n",
      "...                                                  ...                                                                                                                                                                                     \n",
      "28065                                             125000                                                                                                                                                                                     \n",
      "28066                                              60000                                                                                                                                                                                     \n",
      "28067                                              80000                                                                                                                                                                                     \n",
      "28068                                              75000                                                                                                                                                                                     \n",
      "28069                                              90000                                                                                                                                                                                     \n",
      "\n",
      "       How much additional monetary compensation do you get, if any (for example, bonuses or overtime in an average year)? Please only include monetary compensation here, not the value of benefits.  \\\n",
      "0                                                    0.0                                                                                                                                                \n",
      "1                                                 4000.0                                                                                                                                                \n",
      "2                                                    NaN                                                                                                                                                \n",
      "3                                                 3000.0                                                                                                                                                \n",
      "4                                                 7000.0                                                                                                                                                \n",
      "...                                                  ...                                                                                                                                                \n",
      "28065                                            15000.0                                                                                                                                                \n",
      "28066                                             1000.0                                                                                                                                                \n",
      "28067                                             3000.0                                                                                                                                                \n",
      "28068                                                NaN                                                                                                                                                \n",
      "28069                                             9000.0                                                                                                                                                \n",
      "\n",
      "      Please indicate the currency  \\\n",
      "0                              USD   \n",
      "1                              GBP   \n",
      "2                              USD   \n",
      "3                              USD   \n",
      "4                              USD   \n",
      "...                            ...   \n",
      "28065                          USD   \n",
      "28066                          USD   \n",
      "28067                          USD   \n",
      "28068                          USD   \n",
      "28069                          USD   \n",
      "\n",
      "      If \"Other,\" please indicate the currency here:   \\\n",
      "0                                                 NaN   \n",
      "1                                                 NaN   \n",
      "2                                                 NaN   \n",
      "3                                                 NaN   \n",
      "4                                                 NaN   \n",
      "...                                               ...   \n",
      "28065                                             NaN   \n",
      "28066                                             NaN   \n",
      "28067                                             NaN   \n",
      "28068                                             NaN   \n",
      "28069                                             NaN   \n",
      "\n",
      "      If your income needs additional context, please provide it here:  \\\n",
      "0                                                    NaN                 \n",
      "1                                                    NaN                 \n",
      "2                                                    NaN                 \n",
      "3                                                    NaN                 \n",
      "4                                                    NaN                 \n",
      "...                                                  ...                 \n",
      "28065                                                NaN                 \n",
      "28066                                                NaN                 \n",
      "28067                                                NaN                 \n",
      "28068                                                NaN                 \n",
      "28069              10% of the salary if te goals are met                 \n",
      "\n",
      "      What country do you work in?  \\\n",
      "0                    United States   \n",
      "1                   United Kingdom   \n",
      "2                               US   \n",
      "3                              USA   \n",
      "4                               US   \n",
      "...                            ...   \n",
      "28065                          USA   \n",
      "28066               United States    \n",
      "28067     United States of America   \n",
      "28068                         U.S.   \n",
      "28069                          USA   \n",
      "\n",
      "      If you're in the U.S., what state do you work in?  \\\n",
      "0                                         Massachusetts   \n",
      "1                                                   NaN   \n",
      "2                                             Tennessee   \n",
      "3                                             Wisconsin   \n",
      "4                                        South Carolina   \n",
      "...                                                 ...   \n",
      "28065                                           Georgia   \n",
      "28066                                           Georgia   \n",
      "28067                                           Georgia   \n",
      "28068                                           Georgia   \n",
      "28069                                            Nevada   \n",
      "\n",
      "      What city do you work in?  \\\n",
      "0                        Boston   \n",
      "1                     Cambridge   \n",
      "2                   Chattanooga   \n",
      "3                     Milwaukee   \n",
      "4                    Greenville   \n",
      "...                         ...   \n",
      "28065                     Macon   \n",
      "28066             Warner Robins   \n",
      "28067                  Savannah   \n",
      "28068                   Atlanta   \n",
      "28069                 Las Vegas   \n",
      "\n",
      "      How many years of professional work experience do you have overall?  \\\n",
      "0                                              5-7 years                    \n",
      "1                                           8 - 10 years                    \n",
      "2                                            2 - 4 years                    \n",
      "3                                           8 - 10 years                    \n",
      "4                                           8 - 10 years                    \n",
      "...                                                  ...                    \n",
      "28065                                      31 - 40 years                    \n",
      "28066                                        2 - 4 years                    \n",
      "28067                                      11 - 20 years                    \n",
      "28068                                     1 year or less                    \n",
      "28069                                       8 - 10 years                    \n",
      "\n",
      "      How many years of professional work experience do you have in your field?  \\\n",
      "0                                              5-7 years                          \n",
      "1                                              5-7 years                          \n",
      "2                                            2 - 4 years                          \n",
      "3                                              5-7 years                          \n",
      "4                                              5-7 years                          \n",
      "...                                                  ...                          \n",
      "28065                                      31 - 40 years                          \n",
      "28066                                        2 - 4 years                          \n",
      "28067                                      11 - 20 years                          \n",
      "28068                                     1 year or less                          \n",
      "28069                                        2 - 4 years                          \n",
      "\n",
      "      What is your highest level of education completed? What is your gender?  \\\n",
      "0                                        Master's degree                Woman   \n",
      "1                                         College degree           Non-binary   \n",
      "2                                         College degree                Woman   \n",
      "3                                         College degree                Woman   \n",
      "4                                         College degree                Woman   \n",
      "...                                                  ...                  ...   \n",
      "28065                                     College degree                Woman   \n",
      "28066                                     College degree                  Man   \n",
      "28067                                     College degree                  Man   \n",
      "28068                                     College degree                Woman   \n",
      "28069                                    Master's degree                Woman   \n",
      "\n",
      "      What is your race? (Choose all that apply.)  \n",
      "0                                           White  \n",
      "1                                           White  \n",
      "2                                           White  \n",
      "3                                           White  \n",
      "4                                           White  \n",
      "...                                           ...  \n",
      "28065                                       White  \n",
      "28066                                       White  \n",
      "28067                   Black or African American  \n",
      "28068                                       White  \n",
      "28069                     Asian or Asian American  \n",
      "\n",
      "[28070 rows x 18 columns]\n"
     ]
    }
   ],
   "source": [
    "# Load the Ask A Manager Salary Survey 2021 (Responses) data set into a variable (e.g., df_salary).\n",
    "\n",
    "df = pd.read_csv('Ask A Manager Salary Survey 2021 (Responses).tsv', delimiter = '\\t')\n",
    "print(df)"
   ]
  },
  {
   "cell_type": "markdown",
   "metadata": {},
   "source": [
    "Was that hard? 🙃"
   ]
  },
  {
   "cell_type": "markdown",
   "metadata": {},
   "source": [
    "#### rename the file to something that is better for all systems.  \n",
    "* No spaces in filename (can use '_')\n",
    "* all lower case"
   ]
  },
  {
   "cell_type": "markdown",
   "metadata": {},
   "source": [
    "### Explore\n",
    "\n",
    "You know the drill."
   ]
  },
  {
   "cell_type": "markdown",
   "metadata": {},
   "source": [
    "How much data did you just load?"
   ]
  },
  {
   "cell_type": "code",
   "execution_count": 23,
   "metadata": {},
   "outputs": [
    {
     "name": "stdout",
     "output_type": "stream",
     "text": [
      "28070\n"
     ]
    }
   ],
   "source": [
    "# Count by hand. I’m dead serious. (Me: No)\n",
    "\n",
    "print(df.shape[0])"
   ]
  },
  {
   "cell_type": "markdown",
   "metadata": {},
   "source": [
    "What are the columns and their types?"
   ]
  },
  {
   "cell_type": "code",
   "execution_count": 24,
   "metadata": {},
   "outputs": [
    {
     "name": "stdout",
     "output_type": "stream",
     "text": [
      "Index(['Timestamp', 'How old are you?', 'What industry do you work in?',\n",
      "       'Job title',\n",
      "       'If your job title needs additional context, please clarify here:',\n",
      "       'What is your annual salary? (You'll indicate the currency in a later question. If you are part-time or hourly, please enter an annualized equivalent -- what you would earn if you worked the job 40 hours a week, 52 weeks a year.)',\n",
      "       'How much additional monetary compensation do you get, if any (for example, bonuses or overtime in an average year)? Please only include monetary compensation here, not the value of benefits.',\n",
      "       'Please indicate the currency',\n",
      "       'If \"Other,\" please indicate the currency here: ',\n",
      "       'If your income needs additional context, please provide it here:',\n",
      "       'What country do you work in?',\n",
      "       'If you're in the U.S., what state do you work in?',\n",
      "       'What city do you work in?',\n",
      "       'How many years of professional work experience do you have overall?',\n",
      "       'How many years of professional work experience do you have in your field?',\n",
      "       'What is your highest level of education completed?',\n",
      "       'What is your gender?', 'What is your race? (Choose all that apply.)'],\n",
      "      dtype='object')\n"
     ]
    }
   ],
   "source": [
    "# Show the column names and their types.\n",
    "\n",
    "print(df.columns)"
   ]
  },
  {
   "cell_type": "markdown",
   "metadata": {},
   "source": [
    "Oh… Ugh! Give these columns easier names to work with first. 🙄"
   ]
  },
  {
   "cell_type": "code",
   "execution_count": 25,
   "metadata": {},
   "outputs": [
    {
     "name": "stdout",
     "output_type": "stream",
     "text": [
      "Index(['timestamp', 'age', 'industry', 'title', 'title_context', 'salary',\n",
      "       'additional_compensation', 'currency', 'other_currency',\n",
      "       'salary_context', 'country', 'state', 'city', 'total_yoe', 'field_yoe',\n",
      "       'highest_education_completed', 'gender', 'race'],\n",
      "      dtype='object')\n"
     ]
    }
   ],
   "source": [
    "# Rename ‘em.\n",
    "# Non-binding suggestions: timestamp, age, industry, title, title_context, salary, additional_compensation, currency, other_currency, salary_context, country, state, city, total_yoe, field_yoe, highest_education_completed\tgender, race\n",
    "\n",
    "df = df.rename(columns = {'Timestamp' : 'timestamp' , 'How old are you?' : 'age' , 'What industry do you work in?' : 'industry' , 'Job title' : 'title' , 'If your job title needs additional context, please clarify here:' : 'title_context' , \"What is your annual salary? (You'll indicate the currency in a later question. If you are part-time or hourly, please enter an annualized equivalent -- what you would earn if you worked the job 40 hours a week, 52 weeks a year.)\" : 'salary' , 'How much additional monetary compensation do you get, if any (for example, bonuses or overtime in an average year)? Please only include monetary compensation here, not the value of benefits.' : 'additional_compensation' , 'Please indicate the currency' : 'currency' , 'If \"Other,\" please indicate the currency here: ' : 'other_currency' , 'If your income needs additional context, please provide it here:' : 'salary_context' , 'What country do you work in?' : 'country' , \"If you're in the U.S., what state do you work in?\" : 'state' , 'What city do you work in?' : 'city' , 'How many years of professional work experience do you have overall?' : 'total_yoe' , 'How many years of professional work experience do you have in your field?' : 'field_yoe' , 'What is your highest level of education completed?' : 'highest_education_completed' , 'What is your gender?' : 'gender' , 'What is your race? (Choose all that apply.)' : 'race'})\n",
    "print(df.columns)"
   ]
  },
  {
   "cell_type": "markdown",
   "metadata": {},
   "source": [
    "It’s a lot, and that should not have been easy. 😏"
   ]
  },
  {
   "cell_type": "markdown",
   "metadata": {},
   "source": [
    "You’re going to have a gander at the computing/tech subset first because thats *your* industry. But first, what value corresponds to that `industry`?"
   ]
  },
  {
   "cell_type": "code",
   "execution_count": 26,
   "metadata": {},
   "outputs": [
    {
     "name": "stdout",
     "output_type": "stream",
     "text": [
      "industry\n",
      "Computing or Tech                          4702\n",
      "Education (Higher Education)               2465\n",
      "Nonprofits                                 2419\n",
      "Health care                                1896\n",
      "Government and Public Administration       1890\n",
      "                                           ... \n",
      "Gaming (Gambling)                             1\n",
      "Regulatory Affairs- nutraceuticals            1\n",
      "Manufacturing : corporate admin support       1\n",
      "Real Estate Investment Support                1\n",
      "Wine & Spirits                                1\n",
      "Name: count, Length: 1219, dtype: int64\n"
     ]
    }
   ],
   "source": [
    "# List the unique industries and a count of their instances.\n",
    "\n",
    "print(df['industry'].value_counts())"
   ]
  },
  {
   "cell_type": "markdown",
   "metadata": {},
   "source": [
    "That value among the top 5 is what you’re looking for innit? Filter out all the rows not in that industry and save it into a new dataframe. "
   ]
  },
  {
   "cell_type": "code",
   "execution_count": 27,
   "metadata": {},
   "outputs": [
    {
     "name": "stdout",
     "output_type": "stream",
     "text": [
      "                timestamp    age           industry  \\\n",
      "1      4/27/2021 11:02:22  25-34  Computing or Tech   \n",
      "8      4/27/2021 11:03:01  45-54  Computing or Tech   \n",
      "43     4/27/2021 11:04:04  25-34  Computing or Tech   \n",
      "44     4/27/2021 11:04:04  25-34  Computing or Tech   \n",
      "46     4/27/2021 11:04:07  35-44  Computing or Tech   \n",
      "...                   ...    ...                ...   \n",
      "28058  7/23/2024 17:51:03  25-34  Computing or Tech   \n",
      "28060  7/26/2024 11:20:45  18-24  Computing or Tech   \n",
      "28064   9/3/2024 10:57:08  18-24  Computing or Tech   \n",
      "28067   9/8/2024 20:53:07  35-44  Computing or Tech   \n",
      "28069  9/10/2024 23:58:45  35-44  Computing or Tech   \n",
      "\n",
      "                                          title                 title_context  \\\n",
      "1      Change & Internal Communications Manager                           NaN   \n",
      "8                               Systems Analyst  Data developer/ETL Developer   \n",
      "43                  Principal Software Engineer                           NaN   \n",
      "44                         Intelligence Analyst                           NaN   \n",
      "46                             Mobile developer                           NaN   \n",
      "...                                         ...                           ...   \n",
      "28058                         Systems Architect                           NaN   \n",
      "28060                                        IT                           NaN   \n",
      "28064                        Software Developer                           NaN   \n",
      "28067                       IT Helpdesk Manager                           NaN   \n",
      "28069                  Business Systems Analyst                           NaN   \n",
      "\n",
      "        salary  additional_compensation currency other_currency  \\\n",
      "1       54,600                   4000.0      GBP            NaN   \n",
      "8      112,000                  10000.0      USD            NaN   \n",
      "43     187,500                   5000.0      USD            NaN   \n",
      "44     110,000                  20000.0      USD            NaN   \n",
      "46     144,600                   2500.0      USD            NaN   \n",
      "...        ...                      ...      ...            ...   \n",
      "28058   109000                      NaN      USD            NaN   \n",
      "28060     1700                     10.0      USD            NaN   \n",
      "28064    62000                      0.0      USD            NaN   \n",
      "28067    80000                   3000.0      USD            NaN   \n",
      "28069    90000                   9000.0      USD            NaN   \n",
      "\n",
      "                              salary_context                   country  \\\n",
      "1                                        NaN            United Kingdom   \n",
      "8                                        NaN                        US   \n",
      "43                                       NaN             United States   \n",
      "44             Around 20,000 a year in stock                       USA   \n",
      "46                                       NaN                       USA   \n",
      "...                                      ...                       ...   \n",
      "28058                                    NaN                       USA   \n",
      "28060                                    NaN                     Burma   \n",
      "28064                                    NaN                       USA   \n",
      "28067                                    NaN  United States of America   \n",
      "28069  10% of the salary if te goals are met                       USA   \n",
      "\n",
      "               state           city      total_yoe       field_yoe  \\\n",
      "1                NaN      Cambridge   8 - 10 years       5-7 years   \n",
      "8           Missouri      St. Louis  21 - 30 years   21 - 30 years   \n",
      "43      Pennsylvania     Pittsburgh   8 - 10 years       5-7 years   \n",
      "44          Virginia  Arlington, VA   8 - 10 years    8 - 10 years   \n",
      "46     Massachusetts         Boston      5-7 years       5-7 years   \n",
      "...              ...            ...            ...             ...   \n",
      "28058        Georgia        Atlanta      5-7 years       5-7 years   \n",
      "28060            NaN         Yangon    2 - 4 years  1 year or less   \n",
      "28064        Georgia         Athens    2 - 4 years  1 year or less   \n",
      "28067        Georgia       Savannah  11 - 20 years   11 - 20 years   \n",
      "28069         Nevada      Las Vegas   8 - 10 years     2 - 4 years   \n",
      "\n",
      "      highest_education_completed      gender                       race  \n",
      "1                  College degree  Non-binary                      White  \n",
      "8                  College degree       Woman                      White  \n",
      "43                 College degree       Woman                      White  \n",
      "44                Master's degree         Man                      White  \n",
      "46                            PhD       Woman                      White  \n",
      "...                           ...         ...                        ...  \n",
      "28058              College degree         Man                      White  \n",
      "28060                Some college         Man    Asian or Asian American  \n",
      "28064              College degree         Man                      White  \n",
      "28067              College degree         Man  Black or African American  \n",
      "28069             Master's degree       Woman    Asian or Asian American  \n",
      "\n",
      "[4702 rows x 18 columns]\n"
     ]
    }
   ],
   "source": [
    "# Filtery filter. (Save it to a new variable, df_salary_tech.)\n",
    "\n",
    "df_salary_tech = df[df['industry'] == 'Computing or Tech']\n",
    "print(df_salary_tech)"
   ]
  },
  {
   "cell_type": "markdown",
   "metadata": {},
   "source": [
    "Do a sanity check to make sure that the only values you kept are the one you are filtered for.  "
   ]
  },
  {
   "cell_type": "code",
   "execution_count": 35,
   "metadata": {},
   "outputs": [
    {
     "name": "stdout",
     "output_type": "stream",
     "text": [
      "1        Computing or Tech\n",
      "8        Computing or Tech\n",
      "43       Computing or Tech\n",
      "44       Computing or Tech\n",
      "46       Computing or Tech\n",
      "               ...        \n",
      "28058    Computing or Tech\n",
      "28060    Computing or Tech\n",
      "28064    Computing or Tech\n",
      "28067    Computing or Tech\n",
      "28069    Computing or Tech\n",
      "Name: industry, Length: 4702, dtype: object\n"
     ]
    }
   ],
   "source": [
    "# Sanity Check \n",
    "\n",
    "print(df_salary_tech['industry'])\n"
   ]
  },
  {
   "cell_type": "markdown",
   "metadata": {},
   "source": [
    "We are very interested in salary figures. But how many dollars 💵 is a euro 💶 or a pound 💷? That sounds like a problem for another day. 🫠\n",
    "\n",
    "For now, let’s just look at U.S. dollars (`'USD'`)."
   ]
  },
  {
   "cell_type": "code",
   "execution_count": 28,
   "metadata": {},
   "outputs": [
    {
     "name": "stdout",
     "output_type": "stream",
     "text": [
      "                timestamp    age                              industry  \\\n",
      "0      4/27/2021 11:02:10  25-34          Education (Higher Education)   \n",
      "2      4/27/2021 11:02:38  25-34         Accounting, Banking & Finance   \n",
      "3      4/27/2021 11:02:41  25-34                            Nonprofits   \n",
      "4      4/27/2021 11:02:42  25-34         Accounting, Banking & Finance   \n",
      "5      4/27/2021 11:02:46  25-34          Education (Higher Education)   \n",
      "...                   ...    ...                                   ...   \n",
      "28065   9/3/2024 18:30:24  45-54                             Insurance   \n",
      "28066   9/7/2024 22:02:37  18-24  Government and Public Administration   \n",
      "28067   9/8/2024 20:53:07  35-44                     Computing or Tech   \n",
      "28068   9/9/2024 18:43:02  18-24         Accounting, Banking & Finance   \n",
      "28069  9/10/2024 23:58:45  35-44                     Computing or Tech   \n",
      "\n",
      "                                    title title_context  salary  \\\n",
      "0      Research and Instruction Librarian           NaN  55,000   \n",
      "2                    Marketing Specialist           NaN  34,000   \n",
      "3                         Program Manager           NaN  62,000   \n",
      "4                      Accounting Manager           NaN  60,000   \n",
      "5          Scholarly Publishing Librarian           NaN  62,000   \n",
      "...                                   ...           ...     ...   \n",
      "28065                             Manager        Claims  125000   \n",
      "28066         Acquisition program manager           NaN   60000   \n",
      "28067                 IT Helpdesk Manager           NaN   80000   \n",
      "28068                    Audit Associate            NaN   75000   \n",
      "28069            Business Systems Analyst           NaN   90000   \n",
      "\n",
      "       additional_compensation currency other_currency  \\\n",
      "0                          0.0      USD            NaN   \n",
      "2                          NaN      USD            NaN   \n",
      "3                       3000.0      USD            NaN   \n",
      "4                       7000.0      USD            NaN   \n",
      "5                          NaN      USD            NaN   \n",
      "...                        ...      ...            ...   \n",
      "28065                  15000.0      USD            NaN   \n",
      "28066                   1000.0      USD            NaN   \n",
      "28067                   3000.0      USD            NaN   \n",
      "28068                      NaN      USD            NaN   \n",
      "28069                   9000.0      USD            NaN   \n",
      "\n",
      "                              salary_context                   country  \\\n",
      "0                                        NaN             United States   \n",
      "2                                        NaN                        US   \n",
      "3                                        NaN                       USA   \n",
      "4                                        NaN                        US   \n",
      "5                                        NaN                       USA   \n",
      "...                                      ...                       ...   \n",
      "28065                                    NaN                       USA   \n",
      "28066                                    NaN            United States    \n",
      "28067                                    NaN  United States of America   \n",
      "28068                                    NaN                      U.S.   \n",
      "28069  10% of the salary if te goals are met                       USA   \n",
      "\n",
      "                state           city       total_yoe       field_yoe  \\\n",
      "0       Massachusetts         Boston       5-7 years       5-7 years   \n",
      "2           Tennessee    Chattanooga     2 - 4 years     2 - 4 years   \n",
      "3           Wisconsin      Milwaukee    8 - 10 years       5-7 years   \n",
      "4      South Carolina     Greenville    8 - 10 years       5-7 years   \n",
      "5       New Hampshire        Hanover    8 - 10 years     2 - 4 years   \n",
      "...               ...            ...             ...             ...   \n",
      "28065         Georgia          Macon   31 - 40 years   31 - 40 years   \n",
      "28066         Georgia  Warner Robins     2 - 4 years     2 - 4 years   \n",
      "28067         Georgia       Savannah   11 - 20 years   11 - 20 years   \n",
      "28068         Georgia        Atlanta  1 year or less  1 year or less   \n",
      "28069          Nevada      Las Vegas    8 - 10 years     2 - 4 years   \n",
      "\n",
      "      highest_education_completed gender                       race  \n",
      "0                 Master's degree  Woman                      White  \n",
      "2                  College degree  Woman                      White  \n",
      "3                  College degree  Woman                      White  \n",
      "4                  College degree  Woman                      White  \n",
      "5                 Master's degree    Man                      White  \n",
      "...                           ...    ...                        ...  \n",
      "28065              College degree  Woman                      White  \n",
      "28066              College degree    Man                      White  \n",
      "28067              College degree    Man  Black or African American  \n",
      "28068              College degree  Woman                      White  \n",
      "28069             Master's degree  Woman    Asian or Asian American  \n",
      "\n",
      "[23382 rows x 18 columns]\n"
     ]
    }
   ],
   "source": [
    "# Filtery filter for just the jobs that pay in USD!\n",
    "\n",
    "df_USD = df[df['currency'] == 'USD']\n",
    "print(df_USD)"
   ]
  },
  {
   "cell_type": "markdown",
   "metadata": {},
   "source": [
    "What we really want know is how each U.S. city pays in tech. What value in `country` represents the United States of America?"
   ]
  },
  {
   "cell_type": "code",
   "execution_count": 40,
   "metadata": {},
   "outputs": [
    {
     "name": "stdout",
     "output_type": "stream",
     "text": [
      "country\n",
      "For the United States government, but posted overseas         1\n",
      "Untied States                                                 1\n",
      "USA (company is based in a US territory, I work remote)       1\n",
      "USAB                                                          1\n",
      "Unitied States                                                1\n",
      "                                                           ... \n",
      "U.S.                                                        581\n",
      "United States                                               668\n",
      "US                                                         2606\n",
      "USA                                                        7926\n",
      "United States                                              8990\n",
      "Name: count, Length: 229, dtype: int64\n"
     ]
    }
   ],
   "source": [
    "# We did filter for USD, so if we do a count of each unique country in descending count order, the relevant value(s) should show up at the top.\n",
    "\n",
    "print(df_USD['country'].value_counts(ascending = True))"
   ]
  },
  {
   "cell_type": "markdown",
   "metadata": {},
   "source": [
    "### Clean the Data\n",
    "\n",
    "Well, we can’t get our answers with what we currently have, so you’ll have to make some changes."
   ]
  },
  {
   "cell_type": "markdown",
   "metadata": {},
   "source": [
    "Let’s not worry about anything below the first 5 values for now. Convert the top 5 to a single canonical value―say, `'US'`, which is nice and short."
   ]
  },
  {
   "cell_type": "code",
   "execution_count": 41,
   "metadata": {},
   "outputs": [],
   "source": [
    "# Replace them all with 'US'.\n",
    "\n",
    "first_5 = df['industry'].value_counts().nlargest(5).index\n",
    "df['industry'] = df['industry'].replace(first_5, 'US')\n",
    "\n",
    "\n"
   ]
  },
  {
   "cell_type": "markdown",
   "metadata": {},
   "source": [
    "Have a look at the count of each unique country again now."
   ]
  },
  {
   "cell_type": "code",
   "execution_count": 29,
   "metadata": {},
   "outputs": [
    {
     "name": "stdout",
     "output_type": "stream",
     "text": [
      "industry\n",
      "cultural (museums/galleries)               1\n",
      "Diagnostic Medical Devices                 1\n",
      "Library at a University                    1\n",
      "Energy/oil                                 1\n",
      "Video Game Industry                        1\n",
      "                                        ... \n",
      "Government and Public Administration    1890\n",
      "Health care                             1896\n",
      "Nonprofits                              2419\n",
      "Education (Higher Education)            2465\n",
      "Computing or Tech                       4702\n",
      "Name: count, Length: 1219, dtype: int64\n"
     ]
    }
   ],
   "source": [
    "# Count again.\n",
    "\n",
    "print(df['industry'].value_counts(ascending = True))"
   ]
  },
  {
   "cell_type": "markdown",
   "metadata": {},
   "source": [
    "Did you notice anything interesting?"
   ]
  },
  {
   "cell_type": "code",
   "execution_count": 30,
   "metadata": {},
   "outputs": [
    {
     "name": "stdout",
     "output_type": "stream",
     "text": [
      "1220\n"
     ]
    }
   ],
   "source": [
    "# BONUS CREDIT: resolve [most of] those anomalous cases too without exhaustively taking every variant literally into account.\n",
    "\n",
    "list = df['industry'].unique().tolist()\n",
    "print(len(list))"
   ]
  },
  {
   "cell_type": "code",
   "execution_count": null,
   "metadata": {},
   "outputs": [],
   "source": [
    "\n",
    "# BONUS CREDIT: if you’ve resolved it, let’s see how well you did by counting the number of instances of each unique value.\n",
    "\n"
   ]
  },
  {
   "cell_type": "markdown",
   "metadata": {},
   "source": [
    "It’s looking good so far. Let’s find out the minimum, mean, and maximum (in that order) salary by state, sorted by the mean in descending order."
   ]
  },
  {
   "cell_type": "code",
   "execution_count": 32,
   "metadata": {},
   "outputs": [
    {
     "name": "stdout",
     "output_type": "stream",
     "text": [
      "0.0 899670.7944129764 6000070000.0\n"
     ]
    }
   ],
   "source": [
    "# Find the minimum, mean, and maximum salary in USD by U.S. state.\n",
    "\n",
    "df['salary'] = pd.to_numeric(df['salary'], errors = 'coerce')\n",
    "df.dropna()\n",
    "print(df['salary'].min() , df['salary'].mean() , df['salary'].max())"
   ]
  },
  {
   "cell_type": "markdown",
   "metadata": {},
   "source": [
    "Well, pooh! We forgot that `salary` isn’t numeric. Something wrong must be fixed."
   ]
  },
  {
   "cell_type": "code",
   "execution_count": null,
   "metadata": {},
   "outputs": [],
   "source": [
    "# Fix it.\n",
    "\n",
    "#fixed above"
   ]
  },
  {
   "cell_type": "markdown",
   "metadata": {},
   "source": [
    "Let’s try that again."
   ]
  },
  {
   "cell_type": "code",
   "execution_count": null,
   "metadata": {},
   "outputs": [],
   "source": [
    "# Try it again. Yeah!\n",
    "\n",
    "#fixed above"
   ]
  },
  {
   "cell_type": "markdown",
   "metadata": {},
   "source": [
    "That did the trick! Now let’s narrow this to data 2021 and 2022 just because (lel). *(Hint: that timestamp column may not be a temporal type right now.)*"
   ]
  },
  {
   "cell_type": "code",
   "execution_count": null,
   "metadata": {},
   "outputs": [],
   "source": [
    "# Filter the data to within 2021, 2022, or 2023, saving the DataFrame to a new variable, and generate the summary again.\n",
    "\n"
   ]
  },
  {
   "cell_type": "markdown",
   "metadata": {},
   "source": [
    "## Bonus\n",
    "\n",
    "Clearly, we do not have enough data to produce useful figures for the level of specificity you’ve now reached. What do you notice about Delaware and West Virginia?\n",
    "\n",
    "Let’s back out a bit and return to `df_salary` (which was the loaded data with renamed columns but *sans* filtering)."
   ]
  },
  {
   "cell_type": "markdown",
   "metadata": {},
   "source": [
    "### Bonus #0\n",
    "\n",
    "Apply the same steps as before to `df_salary`, but do not filter for any specific industry. Do perform the other data cleaning stuff, and get to a point where you can generate the minimum, mean, and maximum by state."
   ]
  },
  {
   "cell_type": "code",
   "execution_count": null,
   "metadata": {},
   "outputs": [],
   "source": []
  },
  {
   "cell_type": "markdown",
   "metadata": {},
   "source": [
    "### Bonus #1\n",
    "\n",
    "This time, format the table output nicely (*$12,345.00*) without modifying the values in the `DataFrame`. That is, `df_salary` should be identical before versus after running your code.\n",
    "\n",
    "(*Hint: if you run into an error about `jinja2` perhaps you need to `pip install` something.*)"
   ]
  },
  {
   "cell_type": "code",
   "execution_count": null,
   "metadata": {},
   "outputs": [],
   "source": []
  },
  {
   "cell_type": "markdown",
   "metadata": {},
   "source": [
    "### Bonus #2\n",
    "\n",
    "Filter out the non-single-states (e.g., `'California, Colorado'`) in the most elegant way possible (i.e., *not* by blacklisting all the bad values)."
   ]
  },
  {
   "cell_type": "code",
   "execution_count": null,
   "metadata": {},
   "outputs": [],
   "source": []
  },
  {
   "cell_type": "markdown",
   "metadata": {},
   "source": [
    "### Bonus #3\n",
    "\n",
    "Show the quantiles instead of just minimum, mean, and maximum―say 0%, 5%, 25%, 50%, 75%, 95%, and 100%. Outliers may be deceiving.\n",
    "\n",
    "Sort by whatever interests you―like say the *50th* percentile.\n",
    "\n",
    "And throw in a count by state too. It would be interesting to know how many data points contribute to the figures for each state. (*Hint: your nice formatting from Bonus #1 might not work this time around.* 😜)"
   ]
  },
  {
   "cell_type": "code",
   "execution_count": null,
   "metadata": {},
   "outputs": [],
   "source": []
  }
 ],
 "metadata": {
  "kernelspec": {
   "display_name": "Python 3 (ipykernel)",
   "language": "python",
   "name": "python3"
  },
  "language_info": {
   "codemirror_mode": {
    "name": "ipython",
    "version": 3
   },
   "file_extension": ".py",
   "mimetype": "text/x-python",
   "name": "python",
   "nbconvert_exporter": "python",
   "pygments_lexer": "ipython3",
   "version": "3.10.12"
  }
 },
 "nbformat": 4,
 "nbformat_minor": 4
}
