{
 "cells": [
  {
   "cell_type": "markdown",
   "metadata": {},
   "source": [
    "# First print your name in the cell below then save this file. (or something nice about your instructor)"
   ]
  },
  {
   "cell_type": "code",
   "execution_count": 5,
   "metadata": {},
   "outputs": [],
   "source": [
    "Elhaam Bhuiyan\n",
    "\n",
    "Thanks again for the help"
   ]
  },
  {
   "cell_type": "markdown",
   "metadata": {},
   "source": [
    "# Data wrangling with Pandas exercise\n",
    "* For this exercise we will be using the `listings.csv` data file."
   ]
  },
  {
   "cell_type": "code",
   "execution_count": 2,
   "metadata": {},
   "outputs": [],
   "source": [
    "import pandas as pd\n",
    "import numpy as np"
   ]
  },
  {
   "cell_type": "markdown",
   "metadata": {},
   "source": [
    "# Load in the data file using `pd.read_csv()`"
   ]
  },
  {
   "cell_type": "code",
   "execution_count": 5,
   "metadata": {},
   "outputs": [
    {
     "name": "stdout",
     "output_type": "stream",
     "text": [
      "           id                                               name   host_id  \\\n",
      "0        2595                              Skylit Midtown Castle      2845   \n",
      "1        3831  Whole flr w/private bdrm, bath & kitchen(pls r...      4869   \n",
      "2        5121                                    BlissArtsSpace!      7356   \n",
      "3        5136           Spacious Brooklyn Duplex, Patio + Garden      7378   \n",
      "4        5178                   Large Furnished Room Near B'way　      8967   \n",
      "...       ...                                                ...       ...   \n",
      "7397  6807836            Beautiful large double room in Brooklyn   2136825   \n",
      "7398  6808818                 Big Room With Piano & Tin Ceilings  23582893   \n",
      "7399  6809332                Cozy, Warm Home in the West Village    198010   \n",
      "7400  6812061  6 minutes from La Guardia Airpt. Quiet, Clean ...  35660592   \n",
      "7401  6812270                           Bushwick/Bed Stuy Border  21130473   \n",
      "\n",
      "        host_name neighbourhood_group       neighbourhood  latitude  \\\n",
      "0        Jennifer           Manhattan             Midtown  40.75362   \n",
      "1     LisaRoxanne            Brooklyn        Clinton Hill  40.68514   \n",
      "2           Garon            Brooklyn  Bedford-Stuyvesant  40.68688   \n",
      "3         Rebecca            Brooklyn         Sunset Park  40.66120   \n",
      "4        Shunichi           Manhattan      Hell's Kitchen  40.76489   \n",
      "...           ...                 ...                 ...       ...   \n",
      "7397    Guadalupe            Brooklyn            Flatbush  40.63974   \n",
      "7398      Laramie            Brooklyn            Bushwick  40.68972   \n",
      "7399       Shenaz           Manhattan        West Village  40.73728   \n",
      "7400         Luis              Queens             Maspeth  40.73878   \n",
      "7401         Just                 NaN                 NaN       NaN   \n",
      "\n",
      "      longitude        room_type  price  minimum_nights  number_of_reviews  \\\n",
      "0     -73.98377  Entire home/apt  175.0             3.0               48.0   \n",
      "1     -73.95976  Entire home/apt   75.0             1.0              340.0   \n",
      "2     -73.95596     Private room   60.0            29.0               50.0   \n",
      "3     -73.99423  Entire home/apt  175.0            14.0                1.0   \n",
      "4     -73.98493     Private room   65.0             2.0              473.0   \n",
      "...         ...              ...    ...             ...                ...   \n",
      "7397  -73.95560     Private room   84.0             2.0                3.0   \n",
      "7398  -73.91512     Private room   52.0             6.0               92.0   \n",
      "7399  -74.00773  Entire home/apt   95.0             5.0                4.0   \n",
      "7400  -73.89423     Private room   39.0             2.0              105.0   \n",
      "7401        NaN              NaN    NaN             NaN                NaN   \n",
      "\n",
      "     last_review  reviews_per_month  calculated_host_listings_count  \\\n",
      "0     2019-11-04               0.37                             2.0   \n",
      "1     2020-08-01               4.75                             1.0   \n",
      "2     2019-12-02               0.37                             1.0   \n",
      "3     2014-01-02               0.01                             1.0   \n",
      "4     2020-03-15               3.44                             1.0   \n",
      "...          ...                ...                             ...   \n",
      "7397  2018-09-01               0.08                             1.0   \n",
      "7398  2020-07-08               1.48                             1.0   \n",
      "7399  2016-02-21               0.07                             1.0   \n",
      "7400  2020-03-06               1.67                             1.0   \n",
      "7401         NaN                NaN                             NaN   \n",
      "\n",
      "      availability_365  \n",
      "0                365.0  \n",
      "1                265.0  \n",
      "2                365.0  \n",
      "3                295.0  \n",
      "4                340.0  \n",
      "...                ...  \n",
      "7397             180.0  \n",
      "7398              74.0  \n",
      "7399               0.0  \n",
      "7400             360.0  \n",
      "7401               NaN  \n",
      "\n",
      "[7402 rows x 16 columns]\n"
     ]
    }
   ],
   "source": [
    "import pandas as pd \n",
    "df = pd.read_csv(\"listings.csv\") \n",
    "print(df)"
   ]
  },
  {
   "cell_type": "markdown",
   "metadata": {},
   "source": [
    "## Exercise 2 - Filtering\n",
    "\n",
    "Return the following subsets of the dataframe.\n",
    "\n",
    "1. How many listings are there with a price less than 100? \n",
    "\n",
    "\n",
    "2. Find how many listings there are in just Brooklyn.\n",
    "\n",
    "\n",
    "3. Find how many listings there are in Brooklyn with a price less than 100.\n",
    "\n",
    "\n",
    "4. Using `.isin()` select anyone that has the host name of Michael, David, John, and Daniel.\n",
    "\n",
    "\n",
    "5. Create a new column called `adjusted_price` that has $100 added to every listing in Williamsburg.  The prices for all other listings should be the same as the were before. \n",
    "\n",
    "\n",
    "6. What % of the rooms are private, and what % of the rooms are shared.  \n",
    "    * Hint, use `.value_counts()`\n"
   ]
  },
  {
   "cell_type": "code",
   "execution_count": 21,
   "metadata": {},
   "outputs": [
    {
     "name": "stdout",
     "output_type": "stream",
     "text": [
      "2979\n"
     ]
    }
   ],
   "source": [
    "import pandas as pd \n",
    "df = pd.read_csv(\"listings.csv\")\n",
    "print(df[df['price'] < 100].shape[0])\n",
    "\n"
   ]
  },
  {
   "cell_type": "code",
   "execution_count": 16,
   "metadata": {},
   "outputs": [
    {
     "name": "stdout",
     "output_type": "stream",
     "text": [
      "3240\n"
     ]
    }
   ],
   "source": [
    "import pandas as pd\n",
    "\n",
    "df = pd.read_csv(\"listings.csv\")\n",
    "print(df[df['neighbourhood_group'] == \"Brooklyn\"].shape[0])"
   ]
  },
  {
   "cell_type": "code",
   "execution_count": 20,
   "metadata": {},
   "outputs": [
    {
     "name": "stdout",
     "output_type": "stream",
     "text": [
      "1483\n"
     ]
    }
   ],
   "source": [
    "import pandas as pd\n",
    "\n",
    "df = pd.read_csv(\"listings.csv\")\n",
    "print(df[(df['neighbourhood_group'] == \"Brooklyn\") & (df['price'] < 100)].shape[0])"
   ]
  },
  {
   "cell_type": "code",
   "execution_count": 24,
   "metadata": {},
   "outputs": [
    {
     "name": "stdout",
     "output_type": "stream",
     "text": [
      "203\n"
     ]
    }
   ],
   "source": [
    "import pandas as pd\n",
    "\n",
    "df = pd.read_csv(\"listings.csv\")\n",
    "\n",
    "names = ['Michael', 'David', 'John', 'Daniel']\n",
    "new_df = df[df['host_name'].isin(names)]\n",
    "print(new_df.shape[0])"
   ]
  },
  {
   "cell_type": "code",
   "execution_count": 29,
   "metadata": {},
   "outputs": [
    {
     "name": "stdout",
     "output_type": "stream",
     "text": [
      "     id                                               name  host_id  \\\n",
      "0  2595                              Skylit Midtown Castle     2845   \n",
      "1  3831  Whole flr w/private bdrm, bath & kitchen(pls r...     4869   \n",
      "2  5121                                    BlissArtsSpace!     7356   \n",
      "3  5136           Spacious Brooklyn Duplex, Patio + Garden     7378   \n",
      "4  5178                   Large Furnished Room Near B'way　     8967   \n",
      "\n",
      "     host_name neighbourhood_group       neighbourhood  latitude  longitude  \\\n",
      "0     Jennifer           Manhattan             Midtown  40.75362  -73.98377   \n",
      "1  LisaRoxanne            Brooklyn        Clinton Hill  40.68514  -73.95976   \n",
      "2        Garon            Brooklyn  Bedford-Stuyvesant  40.68688  -73.95596   \n",
      "3      Rebecca            Brooklyn         Sunset Park  40.66120  -73.99423   \n",
      "4     Shunichi           Manhattan      Hell's Kitchen  40.76489  -73.98493   \n",
      "\n",
      "         room_type  price  minimum_nights  number_of_reviews last_review  \\\n",
      "0  Entire home/apt  175.0             3.0               48.0  2019-11-04   \n",
      "1  Entire home/apt   75.0             1.0              340.0  2020-08-01   \n",
      "2     Private room   60.0            29.0               50.0  2019-12-02   \n",
      "3  Entire home/apt  175.0            14.0                1.0  2014-01-02   \n",
      "4     Private room   65.0             2.0              473.0  2020-03-15   \n",
      "\n",
      "   reviews_per_month  calculated_host_listings_count  availability_365  \\\n",
      "0               0.37                             2.0             365.0   \n",
      "1               4.75                             1.0             265.0   \n",
      "2               0.37                             1.0             365.0   \n",
      "3               0.01                             1.0             295.0   \n",
      "4               3.44                             1.0             340.0   \n",
      "\n",
      "   adjusted_price  \n",
      "0           175.0  \n",
      "1            75.0  \n",
      "2            60.0  \n",
      "3           175.0  \n",
      "4            65.0  \n"
     ]
    }
   ],
   "source": [
    "# 5. Create a new column called `adjusted_price` that has $100 added to every listing in Williamsburg.  \n",
    "# The prices for all other listings should be the same as the were before. \n",
    "import pandas as pd\n",
    "\n",
    "df = pd.read_csv(\"listings.csv\")\n",
    "df['adjusted_price'] = df['price']\n",
    "df.loc[df['neighbourhood'] == 'Williamsburg', 'adjusted_price'] += 100\n",
    "print(df.head())\n",
    "\n"
   ]
  },
  {
   "cell_type": "code",
   "execution_count": 46,
   "metadata": {},
   "outputs": [
    {
     "name": "stdout",
     "output_type": "stream",
     "text": [
      "38.259929748716566\n",
      "1.337476357741151\n"
     ]
    }
   ],
   "source": [
    "# 6. What % of the rooms are private, and what % of the rooms are shared.  \n",
    "\n",
    "import pandas as pd\n",
    "\n",
    "df = pd.read_csv(\"listings.csv\")\n",
    "\n",
    "private = len(df[df['room_type'] == 'Private room'])\n",
    "shared = len(df[df['room_type'] == 'Shared room'])\n",
    "\n",
    "print(private / len(df) * 100)\n",
    "print(shared / len(df) * 100)\n",
    "\n"
   ]
  },
  {
   "cell_type": "markdown",
   "metadata": {},
   "source": [
    "# Exercise 3 - Grouping\n",
    "\n",
    "1. Using `groupby`, count how many listings are in each neighbourhood_group.\n",
    "\n",
    "\n",
    "2. Using `groupby`, find the mean price for each of the neighbourhood_groups. \n",
    "\n",
    "\n",
    "3. Using `groupby` and `.agg()`, find the min and max price for each of the neighbourhood_groups. \n",
    "\n",
    "\n",
    "4. Using `groupby`, find the median price for each room type in each neighbourhood_group.\n",
    "\n",
    "\n",
    "5. Using `groupby` and `.agg()`, find the count, min, max, mean, median, and std of the prices for each room type in each neighbourhood_group."
   ]
  },
  {
   "cell_type": "code",
   "execution_count": 40,
   "metadata": {},
   "outputs": [
    {
     "name": "stdout",
     "output_type": "stream",
     "text": [
      "neighbourhood_group\n",
      "Bronx             105\n",
      "Brooklyn         3240\n",
      "Manhattan        3436\n",
      "Queens            575\n",
      "Staten Island      45\n",
      "dtype: int64\n"
     ]
    }
   ],
   "source": [
    "# 1. Using `groupby`, count how many listings are in each neighbourhood_group.\n",
    "\n",
    "import pandas as pd\n",
    "\n",
    "df = pd.read_csv(\"listings.csv\")\n",
    "group = df.groupby('neighbourhood_group').size()\n",
    "print(group)\n"
   ]
  },
  {
   "cell_type": "code",
   "execution_count": 42,
   "metadata": {},
   "outputs": [
    {
     "name": "stdout",
     "output_type": "stream",
     "text": [
      "neighbourhood_group\n",
      "Bronx             91.847619\n",
      "Brooklyn         139.644753\n",
      "Manhattan        195.916473\n",
      "Queens           103.796522\n",
      "Staten Island    120.600000\n",
      "Name: price, dtype: float64\n"
     ]
    }
   ],
   "source": [
    "# 2. Using `groupby`, find the mean price for each of the neighbourhood_groups. \n",
    "\n",
    "import pandas as pd\n",
    "\n",
    "df = pd.read_csv(\"listings.csv\")\n",
    "group = df.groupby('neighbourhood_group')['price'].mean()\n",
    "print(group)\n"
   ]
  },
  {
   "cell_type": "code",
   "execution_count": 44,
   "metadata": {},
   "outputs": [
    {
     "name": "stdout",
     "output_type": "stream",
     "text": [
      "room_type\n",
      "Entire home/apt    207.109841\n",
      "Hotel room         218.333333\n",
      "Private room        93.179025\n",
      "Shared room        107.141414\n",
      "Name: price, dtype: float64\n"
     ]
    }
   ],
   "source": [
    "# 2.5. Using `groupby`, find the mean price for each room_type. \n",
    "\n",
    "import pandas as pd\n",
    "\n",
    "df = pd.read_csv(\"listings.csv\")\n",
    "group = df.groupby('room_type')['price'].mean()\n",
    "print(group)\n"
   ]
  },
  {
   "cell_type": "code",
   "execution_count": 48,
   "metadata": {},
   "outputs": [
    {
     "name": "stdout",
     "output_type": "stream",
     "text": [
      "                      min     max\n",
      "neighbourhood_group              \n",
      "Bronx                29.0   914.0\n",
      "Brooklyn             18.0  8000.0\n",
      "Manhattan            16.0  9999.0\n",
      "Queens               23.0  1900.0\n",
      "Staten Island        36.0   700.0\n"
     ]
    }
   ],
   "source": [
    "# 3. Using `groupby` and `.agg()`, find the min and max price for each of the neighbourhood_groups. \n",
    "\n",
    "import pandas as pd\n",
    "\n",
    "df = pd.read_csv(\"listings.csv\")\n",
    "group = df.groupby('neighbourhood_group')['price'].agg(['min', 'max'])\n",
    "print(group)\n"
   ]
  },
  {
   "cell_type": "code",
   "execution_count": 50,
   "metadata": {},
   "outputs": [
    {
     "name": "stdout",
     "output_type": "stream",
     "text": [
      "neighbourhood_group  room_type      \n",
      "Bronx                Entire home/apt    142.210526\n",
      "                     Private room        63.692308\n",
      "                     Shared room         50.000000\n",
      "Brooklyn             Entire home/apt    180.068730\n",
      "                     Hotel room         181.833333\n",
      "                     Private room        81.749808\n",
      "                     Shared room         67.379310\n",
      "Manhattan            Entire home/apt    238.282290\n",
      "                     Hotel room         291.333333\n",
      "                     Private room       115.369449\n",
      "                     Shared room        102.574074\n",
      "Queens               Entire home/apt    141.839506\n",
      "                     Private room        69.855799\n",
      "                     Shared room        225.538462\n",
      "Staten Island        Entire home/apt    189.761905\n",
      "                     Private room        59.130435\n",
      "                     Shared room         82.000000\n",
      "Name: price, dtype: float64\n"
     ]
    }
   ],
   "source": [
    "# 4. Using `groupby`, find the mean price for each room_type in each neighbourhood_group.\n",
    "\n",
    "import pandas as pd\n",
    "\n",
    "df = pd.read_csv(\"listings.csv\")\n",
    "group = df.groupby(['neighbourhood_group', 'room_type'])['price'].mean()\n",
    "print(group)\n"
   ]
  },
  {
   "cell_type": "code",
   "execution_count": 51,
   "metadata": {},
   "outputs": [
    {
     "name": "stdout",
     "output_type": "stream",
     "text": [
      "                                     count   min     max        mean  median  \\\n",
      "neighbourhood_group room_type                                                  \n",
      "Bronx               Entire home/apt     38  48.0   914.0  142.210526   112.0   \n",
      "                    Private room        65  29.0   680.0   63.692308    49.0   \n",
      "                    Shared room          2  45.0    55.0   50.000000    50.0   \n",
      "Brooklyn            Entire home/apt   1906  38.0  8000.0  180.068730   140.0   \n",
      "                    Hotel room           6  99.0   349.0  181.833333   179.0   \n",
      "                    Private room      1299  18.0   900.0   81.749808    70.0   \n",
      "                    Shared room         29  25.0   229.0   67.379310    55.0   \n",
      "Manhattan           Entire home/apt   2253  16.0  9999.0  238.282290   171.0   \n",
      "                    Hotel room           3  50.0   629.0  291.333333   195.0   \n",
      "                    Private room      1126  20.0  9990.0  115.369449    89.0   \n",
      "                    Shared room         54  25.0  1000.0  102.574074    77.5   \n",
      "Queens              Entire home/apt    243  32.0  1750.0  141.839506   115.0   \n",
      "                    Private room       319  23.0  1000.0   69.855799    60.0   \n",
      "                    Shared room         13  29.0  1900.0  225.538462    65.0   \n",
      "Staten Island       Entire home/apt     21  61.0   700.0  189.761905   139.0   \n",
      "                    Private room        23  36.0   110.0   59.130435    55.0   \n",
      "                    Shared room          1  82.0    82.0   82.000000    82.0   \n",
      "\n",
      "                                            std  \n",
      "neighbourhood_group room_type                    \n",
      "Bronx               Entire home/apt  138.637415  \n",
      "                    Private room      79.714319  \n",
      "                    Shared room        7.071068  \n",
      "Brooklyn            Entire home/apt  285.298782  \n",
      "                    Hotel room        90.089770  \n",
      "                    Private room      62.505702  \n",
      "                    Shared room       44.849282  \n",
      "Manhattan           Entire home/apt  356.790042  \n",
      "                    Hotel room       301.281153  \n",
      "                    Private room     309.646850  \n",
      "                    Shared room      134.596196  \n",
      "Queens              Entire home/apt  130.414291  \n",
      "                    Private room      60.181679  \n",
      "                    Shared room      509.342814  \n",
      "Staten Island       Entire home/apt  182.327975  \n",
      "                    Private room      21.435536  \n",
      "                    Shared room             NaN  \n"
     ]
    }
   ],
   "source": [
    "# 5. Using `groupby` and `.agg()`, find the count, min, max, mean, median, and std of the prices \n",
    "# for each room type in each neighbourhood_group.\n",
    "\n",
    "import pandas as pd\n",
    "\n",
    "df = pd.read_csv(\"listings.csv\")\n",
    "group = df.groupby(['neighbourhood_group', 'room_type'])['price'].agg(['count', 'min', 'max', 'mean', 'median', 'std'])\n",
    "\n",
    "print(group)\n",
    "\n",
    "\n"
   ]
  },
  {
   "cell_type": "markdown",
   "metadata": {},
   "source": [
    "# Load, Merge, and Export files.\n",
    "1. Load the `prices.csv` and the `n_listings.csv`\n",
    "    * Having an error..? Inspect the actual csv file if you're having trouble\n",
    "\n",
    "2. Do join that keeps all the records for each table.\n",
    "    * Neighbourhood groups should include ['Bronx', 'Brooklyn', 'Manhattan', 'Queens', 'Staten Island',\n",
    "       'LongIsland']\n",
    "\n",
    "       \n",
    "3. Save your joined csv as `joined.csv` into the data folder. \n",
    "\n",
    "\n",
    "4. Load your saved table and see if it looks the same or different that the DataFrame you used to create it. "
   ]
  },
  {
   "cell_type": "code",
   "execution_count": 6,
   "metadata": {},
   "outputs": [
    {
     "name": "stdout",
     "output_type": "stream",
     "text": [
      "Index(['neighbourhood_group', ' mean_price'], dtype='object')\n",
      "Index(['neighbourhood_group;n_listings'], dtype='object')\n"
     ]
    }
   ],
   "source": [
    "import pandas as pd\n",
    "\n",
    "df1 = pd.read_csv(\"prices.csv\")\n",
    "df2 = pd.read_csv(\"n_listings.csv\")\n",
    "\n",
    "print(df1.columns)\n",
    "print(df2.columns)"
   ]
  },
  {
   "cell_type": "code",
   "execution_count": 8,
   "metadata": {},
   "outputs": [
    {
     "name": "stdout",
     "output_type": "stream",
     "text": [
      "  neighbourhood_group   mean_price n_listings\n",
      "0               Bronx    92.751479       1183\n",
      "1            Brooklyn   120.225258      18632\n",
      "2          LongIsland          NaN       4121\n",
      "3           Manhattan   191.880466      20580\n",
      "4              Queens    99.754965        NaN\n",
      "5       Staten Island   110.947214        NaN\n"
     ]
    }
   ],
   "source": [
    "# 2. Do join that keeps all the records for each table.\n",
    "\n",
    "import pandas as pd\n",
    "\n",
    "df1 = pd.read_csv(\"prices.csv\")\n",
    "df2 = pd.read_csv(\"n_listings.csv\")\n",
    "df2[['neighbourhood_group', 'n_listings']] = df2['neighbourhood_group;n_listings'].str.split(';', expand=True)\n",
    "\n",
    "df2.drop(columns = ['neighbourhood_group;n_listings'], inplace = True)\n",
    "\n",
    "merge = pd.merge(df1, df2, on = 'neighbourhood_group', how='outer')\n",
    "print(merge)\n",
    "\n"
   ]
  },
  {
   "cell_type": "code",
   "execution_count": 9,
   "metadata": {},
   "outputs": [],
   "source": [
    "# 3. Save your joined csv as `joined.csv` into the data folder. \n",
    "import pandas as pd\n",
    "\n",
    "df1 = pd.read_csv(\"prices.csv\")\n",
    "df2 = pd.read_csv(\"n_listings.csv\")\n",
    "df2[['neighbourhood_group', 'n_listings']] = df2['neighbourhood_group;n_listings'].str.split(';', expand=True)\n",
    "\n",
    "df2.drop(columns = ['neighbourhood_group;n_listings'], inplace = True)\n",
    "\n",
    "merge = pd.merge(df1, df2, on = 'neighbourhood_group', how='outer')\n",
    "\n",
    "merge.to_csv('joined.csv', index = False)\n",
    "\n"
   ]
  },
  {
   "cell_type": "code",
   "execution_count": null,
   "metadata": {},
   "outputs": [],
   "source": [
    "# 4. Load your newly saved file, see if it looks the same.  If not, try saving with argument `index=False`\n",
    "\n",
    "df = pd.read_csv('"
   ]
  },
  {
   "cell_type": "markdown",
   "metadata": {},
   "source": [
    "# Extra Credit\n",
    "Every question below this cell is extra credit and optional."
   ]
  },
  {
   "cell_type": "markdown",
   "metadata": {},
   "source": [
    "### 1. (Easy) Explore this new PandasAI Package and tell me what its all about because I've never used it. \n",
    "* https://www.youtube.com/watch?v=5w6eZaoDVVk&ab_channel=CodingIsFun  \n",
    "* See if you can use it on the listings.csv to find out some cool info. or answer some of the questions above. "
   ]
  },
  {
   "cell_type": "markdown",
   "metadata": {},
   "source": [
    "### 2. (Very Easy) Find other cool Panda packages / add ons and show us what they can do well. And how you installed them. "
   ]
  },
  {
   "cell_type": "markdown",
   "metadata": {},
   "source": [
    "### 3. (Medium) Use the grammys.csv data for the next section of questions.\n",
    "\n",
    "1. Who was won Album of the Year in 2016?\n",
    "\n",
    "\n",
    "2. Who won Best Rap Album in 2009?\n",
    "\n",
    "\n",
    "3. How many awards was Kendrick Lamar nomiated for, and how many did he win...?"
   ]
  },
  {
   "cell_type": "markdown",
   "metadata": {},
   "source": [
    "### (Hard) Load the Game Logs for 2022 and add the column names using a dictionary.  \n",
    "* [Link to the data page](https://www.retrosheet.org/gamelogs/)\n",
    "* [Link to the column names](https://procatinator.com/)\n",
    "* haha, gotta find them yourself!"
   ]
  },
  {
   "cell_type": "markdown",
   "metadata": {},
   "source": [
    "### (Extra Hard) Download the files for the past 5 years into a new folder and add them all into one data frame using pandas, then save that new file.\n",
    "* Try to not hard code in the file names. We want to do this programmatically because what if we want to add new/more file names in the future."
   ]
  },
  {
   "cell_type": "code",
   "execution_count": null,
   "metadata": {},
   "outputs": [],
   "source": []
  }
 ],
 "metadata": {
  "kernelspec": {
   "display_name": "Python 3 (ipykernel)",
   "language": "python",
   "name": "python3"
  },
  "language_info": {
   "codemirror_mode": {
    "name": "ipython",
    "version": 3
   },
   "file_extension": ".py",
   "mimetype": "text/x-python",
   "name": "python",
   "nbconvert_exporter": "python",
   "pygments_lexer": "ipython3",
   "version": "3.10.12"
  }
 },
 "nbformat": 4,
 "nbformat_minor": 4
}
